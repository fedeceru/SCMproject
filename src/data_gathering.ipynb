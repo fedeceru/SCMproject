{
 "cells": [
  {
   "cell_type": "code",
   "execution_count": 151,
   "id": "49a13baa",
   "metadata": {},
   "outputs": [
    {
     "data": {
      "text/plain": [
       "True"
      ]
     },
     "execution_count": 151,
     "metadata": {},
     "output_type": "execute_result"
    }
   ],
   "source": [
    "import os\n",
    "import json\n",
    "from dotenv import load_dotenv\n",
    "from googleapiclient.discovery import build\n",
    "\n",
    "load_dotenv()"
   ]
  },
  {
   "cell_type": "code",
   "execution_count": 152,
   "id": "24dce953",
   "metadata": {},
   "outputs": [],
   "source": [
    "DEVELOPER_KEY = os.environ.get('YT_KEY')\n",
    "YOUTUBE_API_SERVICE_NAME = 'youtube'\n",
    "YOUTUBE_API_VERSION = 'v3'"
   ]
  },
  {
   "cell_type": "code",
   "execution_count": 153,
   "id": "816b83f2",
   "metadata": {},
   "outputs": [],
   "source": [
    "yt = build(YOUTUBE_API_SERVICE_NAME, YOUTUBE_API_VERSION, developerKey=DEVELOPER_KEY)"
   ]
  },
  {
   "cell_type": "code",
   "execution_count": 154,
   "id": "cb07de71",
   "metadata": {},
   "outputs": [],
   "source": [
    "# Individuo le finestre temporali per le ricerche, con i rispettivi parametri\n",
    "windows = [\n",
    "    {\"label\": \"approdo_maldini\", \"query\": \"Maldini Milan 2019 dirigenza\", \"after\": \"2019-05-20T00:00:00Z\", \"before\": \"2019-07-01T00:00:00Z\"},\n",
    "    {\"label\": \"scudetto\", \"query\": \"Milan campione 2022 Maldini\", \"after\": \"2022-05-15T00:00:00Z\", \"before\": \"2022-06-15T00:00:00Z\"},\n",
    "    {\"label\": \"licenziamento\", \"query\": \"Maldini licenziato Cardinale\", \"after\": \"2023-06-01T00:00:00Z\", \"before\": \"2023-06-30T00:00:00Z\"},\n",
    "    {\"label\": \"cardinale_out\", \"query\": \"#CardinaleOut Milan\", \"after\": \"2023-06-01T00:00:00Z\", \"before\": \"2023-12-31T00:00:00Z\"}\n",
    "]"
   ]
  },
  {
   "cell_type": "code",
   "execution_count": 155,
   "id": "d12d5093",
   "metadata": {},
   "outputs": [],
   "source": [
    "# Individuo i canali più influenti da cui estrarre i video\n",
    "def get_channels(query, max_results):\n",
    "    channels = set()\n",
    "\n",
    "    request = yt.search().list(\n",
    "        part='snippet',\n",
    "        q=query,\n",
    "        type='channel',\n",
    "        maxResults=max_results\n",
    "    )\n",
    "\n",
    "    try:\n",
    "        response = request.execute()\n",
    "\n",
    "        for item in response.get('items', []):\n",
    "            channel_name = item['snippet']['title']\n",
    "            channel_id = item['id']['channelId']\n",
    "            channels.add((channel_id, channel_name))\n",
    "\n",
    "    except Exception as e:\n",
    "        print(f\"Error fetching channels: {e}\")\n",
    "\n",
    "    return channels"
   ]
  },
  {
   "cell_type": "code",
   "execution_count": 156,
   "id": "1904849d",
   "metadata": {},
   "outputs": [
    {
     "name": "stdout",
     "output_type": "stream",
     "text": [
      "AC Milan Addicted\n",
      "Notizie di AC Milan Ufficiale\n",
      "Ac Milan Calcio\n",
      "AC Milan\n",
      "AcmDevil\n",
      "La Storia del Milan\n",
      "Rinaldo Morelli\n",
      "SempreMilan\n",
      "AC Milan Academy Junior Camp - Sporteventi\n",
      "Ac Milan 2015\n",
      "Football Kush\n",
      "Lorenzo Lollo - I Milanisti Official\n",
      "MILAN HELLO - ANDREA LONGONI\n",
      "La Taberna del Milan\n",
      "Milan Actu\n"
     ]
    },
    {
     "data": {
      "text/plain": [
       "15"
      ]
     },
     "execution_count": 156,
     "metadata": {},
     "output_type": "execute_result"
    }
   ],
   "source": [
    "channels = get_channels(\"AC Milan\", 15)\n",
    "for channel in channels:\n",
    "    print(channel[1])\n",
    "\n",
    "len(channels)"
   ]
  }
 ],
 "metadata": {
  "kernelspec": {
   "display_name": "env",
   "language": "python",
   "name": "python3"
  },
  "language_info": {
   "codemirror_mode": {
    "name": "ipython",
    "version": 3
   },
   "file_extension": ".py",
   "mimetype": "text/x-python",
   "name": "python",
   "nbconvert_exporter": "python",
   "pygments_lexer": "ipython3",
   "version": "3.8.0"
  }
 },
 "nbformat": 4,
 "nbformat_minor": 5
}
