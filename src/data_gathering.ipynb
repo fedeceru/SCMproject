{
 "cells": [
  {
   "cell_type": "code",
   "execution_count": null,
   "id": "49a13baa",
   "metadata": {},
   "outputs": [],
   "source": [
    "import json"
   ]
  },
  {
   "cell_type": "code",
   "execution_count": null,
   "id": "24dce953",
   "metadata": {},
   "outputs": [],
   "source": [
    "credentials_app = json.load(open('credentials_app.json'))\n",
    "api_key = credentials_app['api_key']"
   ]
  }
 ],
 "metadata": {
  "kernelspec": {
   "display_name": "env",
   "language": "python",
   "name": "python3"
  },
  "language_info": {
   "codemirror_mode": {
    "name": "ipython",
    "version": 3
   },
   "file_extension": ".py",
   "mimetype": "text/x-python",
   "name": "python",
   "nbconvert_exporter": "python",
   "pygments_lexer": "ipython3",
   "version": "3.8.0"
  }
 },
 "nbformat": 4,
 "nbformat_minor": 5
}
