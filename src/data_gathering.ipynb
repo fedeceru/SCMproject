{
 "cells": [
  {
   "cell_type": "code",
   "execution_count": 1,
   "id": "49a13baa",
   "metadata": {},
   "outputs": [
    {
     "data": {
      "text/plain": [
       "True"
      ]
     },
     "execution_count": 1,
     "metadata": {},
     "output_type": "execute_result"
    }
   ],
   "source": [
    "import os\n",
    "import json\n",
    "from dotenv import load_dotenv\n",
    "from googleapiclient.discovery import build\n",
    "\n",
    "load_dotenv()"
   ]
  },
  {
   "cell_type": "code",
   "execution_count": 2,
   "id": "24dce953",
   "metadata": {},
   "outputs": [],
   "source": [
    "DEVELOPER_KEY = os.environ.get('YT_KEY')\n",
    "YOUTUBE_API_SERVICE_NAME = 'youtube'\n",
    "YOUTUBE_API_VERSION = 'v3'"
   ]
  },
  {
   "cell_type": "code",
   "execution_count": 3,
   "id": "816b83f2",
   "metadata": {},
   "outputs": [],
   "source": [
    "yt = build(YOUTUBE_API_SERVICE_NAME, YOUTUBE_API_VERSION, developerKey=DEVELOPER_KEY)"
   ]
  },
  {
   "cell_type": "code",
   "execution_count": null,
   "id": "fcc0427e",
   "metadata": {},
   "outputs": [],
   "source": [
    "# prendo i video a seconda delle finestre temporali che ho indivisuato, relativo all'approdo di maldini nella dirigenza del milan,all'andamento del campionato vinto, al suo licenziamento e al fenomeno #CardinaleOut \n",
    "def get_videos():\n",
    "    request = yt.search().list(\n",
    "\n",
    "    )"
   ]
  }
 ],
 "metadata": {
  "kernelspec": {
   "display_name": "env",
   "language": "python",
   "name": "python3"
  },
  "language_info": {
   "codemirror_mode": {
    "name": "ipython",
    "version": 3
   },
   "file_extension": ".py",
   "mimetype": "text/x-python",
   "name": "python",
   "nbconvert_exporter": "python",
   "pygments_lexer": "ipython3",
   "version": "3.8.0"
  }
 },
 "nbformat": 4,
 "nbformat_minor": 5
}
